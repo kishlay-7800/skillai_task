{
 "cells": [
  {
   "cell_type": "code",
   "execution_count": 1,
   "id": "393d3219-12fd-4ce4-8082-830879ff6176",
   "metadata": {},
   "outputs": [],
   "source": [
    "import pandas as pd"
   ]
  },
  {
   "cell_type": "code",
   "execution_count": 7,
   "id": "0c0f062f-e583-4785-85ee-866b3ede1b04",
   "metadata": {},
   "outputs": [],
   "source": [
    "df = pd.read_csv(r\"C:\\Users\\Kishlay Kumar\\Documents\\doc1.csv\")"
   ]
  },
  {
   "cell_type": "code",
   "execution_count": 8,
   "id": "f1c49982-d079-4a14-9abb-c6b761745e7c",
   "metadata": {},
   "outputs": [
    {
     "data": {
      "text/html": [
       "<div>\n",
       "<style scoped>\n",
       "    .dataframe tbody tr th:only-of-type {\n",
       "        vertical-align: middle;\n",
       "    }\n",
       "\n",
       "    .dataframe tbody tr th {\n",
       "        vertical-align: top;\n",
       "    }\n",
       "\n",
       "    .dataframe thead th {\n",
       "        text-align: right;\n",
       "    }\n",
       "</style>\n",
       "<table border=\"1\" class=\"dataframe\">\n",
       "  <thead>\n",
       "    <tr style=\"text-align: right;\">\n",
       "      <th></th>\n",
       "      <th>My_City</th>\n",
       "      <th>My_Gender</th>\n",
       "      <th>My_Population</th>\n",
       "    </tr>\n",
       "  </thead>\n",
       "  <tbody>\n",
       "    <tr>\n",
       "      <th>0</th>\n",
       "      <td>New York</td>\n",
       "      <td>Male</td>\n",
       "      <td>4125000</td>\n",
       "    </tr>\n",
       "    <tr>\n",
       "      <th>1</th>\n",
       "      <td>New York</td>\n",
       "      <td>Female</td>\n",
       "      <td>4300000</td>\n",
       "    </tr>\n",
       "    <tr>\n",
       "      <th>2</th>\n",
       "      <td>Los Angeles</td>\n",
       "      <td>Male</td>\n",
       "      <td>1985000</td>\n",
       "    </tr>\n",
       "    <tr>\n",
       "      <th>3</th>\n",
       "      <td>Los Angeles</td>\n",
       "      <td>Female</td>\n",
       "      <td>2070000</td>\n",
       "    </tr>\n",
       "    <tr>\n",
       "      <th>4</th>\n",
       "      <td>Phoenix</td>\n",
       "      <td>Male</td>\n",
       "      <td>99800000</td>\n",
       "    </tr>\n",
       "    <tr>\n",
       "      <th>5</th>\n",
       "      <td>Chicago</td>\n",
       "      <td>Male</td>\n",
       "      <td>1350000</td>\n",
       "    </tr>\n",
       "    <tr>\n",
       "      <th>6</th>\n",
       "      <td>Chicago</td>\n",
       "      <td>Female</td>\n",
       "      <td>1400000</td>\n",
       "    </tr>\n",
       "    <tr>\n",
       "      <th>7</th>\n",
       "      <td>Houston</td>\n",
       "      <td>Male</td>\n",
       "      <td>1100000</td>\n",
       "    </tr>\n",
       "    <tr>\n",
       "      <th>8</th>\n",
       "      <td>Houston</td>\n",
       "      <td>Female</td>\n",
       "      <td>1120000</td>\n",
       "    </tr>\n",
       "    <tr>\n",
       "      <th>9</th>\n",
       "      <td>Phoenix</td>\n",
       "      <td>Male</td>\n",
       "      <td>800000</td>\n",
       "    </tr>\n",
       "    <tr>\n",
       "      <th>10</th>\n",
       "      <td>Phoenix</td>\n",
       "      <td>Female</td>\n",
       "      <td>810000</td>\n",
       "    </tr>\n",
       "    <tr>\n",
       "      <th>11</th>\n",
       "      <td>Philadelphia</td>\n",
       "      <td>Male</td>\n",
       "      <td>750000</td>\n",
       "    </tr>\n",
       "    <tr>\n",
       "      <th>12</th>\n",
       "      <td>Philadelphia</td>\n",
       "      <td>Female</td>\n",
       "      <td>770000</td>\n",
       "    </tr>\n",
       "    <tr>\n",
       "      <th>13</th>\n",
       "      <td>New York</td>\n",
       "      <td>Male</td>\n",
       "      <td>99125000</td>\n",
       "    </tr>\n",
       "    <tr>\n",
       "      <th>14</th>\n",
       "      <td>Phoenix</td>\n",
       "      <td>Male</td>\n",
       "      <td>99800000</td>\n",
       "    </tr>\n",
       "  </tbody>\n",
       "</table>\n",
       "</div>"
      ],
      "text/plain": [
       "         My_City My_Gender  My_Population\n",
       "0       New York      Male        4125000\n",
       "1       New York    Female        4300000\n",
       "2    Los Angeles      Male        1985000\n",
       "3    Los Angeles    Female        2070000\n",
       "4        Phoenix      Male       99800000\n",
       "5        Chicago      Male        1350000\n",
       "6        Chicago    Female        1400000\n",
       "7        Houston      Male        1100000\n",
       "8        Houston    Female        1120000\n",
       "9        Phoenix      Male         800000\n",
       "10       Phoenix    Female         810000\n",
       "11  Philadelphia      Male         750000\n",
       "12  Philadelphia    Female         770000\n",
       "13      New York      Male       99125000\n",
       "14       Phoenix      Male       99800000"
      ]
     },
     "execution_count": 8,
     "metadata": {},
     "output_type": "execute_result"
    }
   ],
   "source": [
    "df"
   ]
  },
  {
   "cell_type": "code",
   "execution_count": 11,
   "id": "b8bec819-148d-4a9b-b91d-2f89ed134e20",
   "metadata": {},
   "outputs": [
    {
     "data": {
      "text/plain": [
       "319305000"
      ]
     },
     "execution_count": 11,
     "metadata": {},
     "output_type": "execute_result"
    }
   ],
   "source": [
    "df['My_Population'].max()"
   ]
  },
  {
   "cell_type": "code",
   "execution_count": 19,
   "id": "31f601a2-349a-447d-8b97-689fa43d83d5",
   "metadata": {},
   "outputs": [],
   "source": [
    "males_in_city = df[df['My_Gender'] == 'Male']"
   ]
  },
  {
   "cell_type": "code",
   "execution_count": 20,
   "id": "4cdd549d-89a1-4f64-9b89-3beed3e4dc0a",
   "metadata": {},
   "outputs": [
    {
     "data": {
      "text/html": [
       "<div>\n",
       "<style scoped>\n",
       "    .dataframe tbody tr th:only-of-type {\n",
       "        vertical-align: middle;\n",
       "    }\n",
       "\n",
       "    .dataframe tbody tr th {\n",
       "        vertical-align: top;\n",
       "    }\n",
       "\n",
       "    .dataframe thead th {\n",
       "        text-align: right;\n",
       "    }\n",
       "</style>\n",
       "<table border=\"1\" class=\"dataframe\">\n",
       "  <thead>\n",
       "    <tr style=\"text-align: right;\">\n",
       "      <th></th>\n",
       "      <th>My_City</th>\n",
       "      <th>My_Gender</th>\n",
       "      <th>My_Population</th>\n",
       "    </tr>\n",
       "  </thead>\n",
       "  <tbody>\n",
       "    <tr>\n",
       "      <th>0</th>\n",
       "      <td>New York</td>\n",
       "      <td>Male</td>\n",
       "      <td>4125000</td>\n",
       "    </tr>\n",
       "    <tr>\n",
       "      <th>2</th>\n",
       "      <td>Los Angeles</td>\n",
       "      <td>Male</td>\n",
       "      <td>1985000</td>\n",
       "    </tr>\n",
       "    <tr>\n",
       "      <th>4</th>\n",
       "      <td>Phoenix</td>\n",
       "      <td>Male</td>\n",
       "      <td>99800000</td>\n",
       "    </tr>\n",
       "    <tr>\n",
       "      <th>5</th>\n",
       "      <td>Chicago</td>\n",
       "      <td>Male</td>\n",
       "      <td>1350000</td>\n",
       "    </tr>\n",
       "    <tr>\n",
       "      <th>7</th>\n",
       "      <td>Houston</td>\n",
       "      <td>Male</td>\n",
       "      <td>1100000</td>\n",
       "    </tr>\n",
       "    <tr>\n",
       "      <th>9</th>\n",
       "      <td>Phoenix</td>\n",
       "      <td>Male</td>\n",
       "      <td>800000</td>\n",
       "    </tr>\n",
       "    <tr>\n",
       "      <th>11</th>\n",
       "      <td>Philadelphia</td>\n",
       "      <td>Male</td>\n",
       "      <td>750000</td>\n",
       "    </tr>\n",
       "    <tr>\n",
       "      <th>13</th>\n",
       "      <td>New York</td>\n",
       "      <td>Male</td>\n",
       "      <td>99125000</td>\n",
       "    </tr>\n",
       "    <tr>\n",
       "      <th>14</th>\n",
       "      <td>Phoenix</td>\n",
       "      <td>Male</td>\n",
       "      <td>99800000</td>\n",
       "    </tr>\n",
       "  </tbody>\n",
       "</table>\n",
       "</div>"
      ],
      "text/plain": [
       "         My_City My_Gender  My_Population\n",
       "0       New York      Male        4125000\n",
       "2    Los Angeles      Male        1985000\n",
       "4        Phoenix      Male       99800000\n",
       "5        Chicago      Male        1350000\n",
       "7        Houston      Male        1100000\n",
       "9        Phoenix      Male         800000\n",
       "11  Philadelphia      Male         750000\n",
       "13      New York      Male       99125000\n",
       "14       Phoenix      Male       99800000"
      ]
     },
     "execution_count": 20,
     "metadata": {},
     "output_type": "execute_result"
    }
   ],
   "source": [
    "males_in_city"
   ]
  },
  {
   "cell_type": "code",
   "execution_count": 21,
   "id": "f5dd7413-b1c7-4327-9d2f-3fc0332490a5",
   "metadata": {},
   "outputs": [],
   "source": [
    "females_ = df[df['My_Gender'] == 'Female']"
   ]
  },
  {
   "cell_type": "code",
   "execution_count": 23,
   "id": "c4c5fa51-849d-4f92-ab4b-a043a49694e6",
   "metadata": {},
   "outputs": [
    {
     "data": {
      "text/html": [
       "<div>\n",
       "<style scoped>\n",
       "    .dataframe tbody tr th:only-of-type {\n",
       "        vertical-align: middle;\n",
       "    }\n",
       "\n",
       "    .dataframe tbody tr th {\n",
       "        vertical-align: top;\n",
       "    }\n",
       "\n",
       "    .dataframe thead th {\n",
       "        text-align: right;\n",
       "    }\n",
       "</style>\n",
       "<table border=\"1\" class=\"dataframe\">\n",
       "  <thead>\n",
       "    <tr style=\"text-align: right;\">\n",
       "      <th></th>\n",
       "      <th>My_City</th>\n",
       "      <th>My_Gender</th>\n",
       "      <th>My_Population</th>\n",
       "    </tr>\n",
       "  </thead>\n",
       "  <tbody>\n",
       "    <tr>\n",
       "      <th>1</th>\n",
       "      <td>New York</td>\n",
       "      <td>Female</td>\n",
       "      <td>4300000</td>\n",
       "    </tr>\n",
       "    <tr>\n",
       "      <th>3</th>\n",
       "      <td>Los Angeles</td>\n",
       "      <td>Female</td>\n",
       "      <td>2070000</td>\n",
       "    </tr>\n",
       "    <tr>\n",
       "      <th>6</th>\n",
       "      <td>Chicago</td>\n",
       "      <td>Female</td>\n",
       "      <td>1400000</td>\n",
       "    </tr>\n",
       "    <tr>\n",
       "      <th>8</th>\n",
       "      <td>Houston</td>\n",
       "      <td>Female</td>\n",
       "      <td>1120000</td>\n",
       "    </tr>\n",
       "    <tr>\n",
       "      <th>10</th>\n",
       "      <td>Phoenix</td>\n",
       "      <td>Female</td>\n",
       "      <td>810000</td>\n",
       "    </tr>\n",
       "    <tr>\n",
       "      <th>12</th>\n",
       "      <td>Philadelphia</td>\n",
       "      <td>Female</td>\n",
       "      <td>770000</td>\n",
       "    </tr>\n",
       "  </tbody>\n",
       "</table>\n",
       "</div>"
      ],
      "text/plain": [
       "         My_City My_Gender  My_Population\n",
       "1       New York    Female        4300000\n",
       "3    Los Angeles    Female        2070000\n",
       "6        Chicago    Female        1400000\n",
       "8        Houston    Female        1120000\n",
       "10       Phoenix    Female         810000\n",
       "12  Philadelphia    Female         770000"
      ]
     },
     "execution_count": 23,
     "metadata": {},
     "output_type": "execute_result"
    }
   ],
   "source": [
    "females_"
   ]
  },
  {
   "cell_type": "code",
   "execution_count": 30,
   "id": "5418a322-d956-4cd3-89e2-af6a9443c1bd",
   "metadata": {},
   "outputs": [],
   "source": [
    "total_male_population = males_in_city.groupby('My_City')['My_Population'].sum()"
   ]
  },
  {
   "cell_type": "code",
   "execution_count": 31,
   "id": "e51c1719-2cdc-42b7-adcf-878ab385590c",
   "metadata": {},
   "outputs": [
    {
     "data": {
      "text/plain": [
       "My_City\n",
       "Chicago           1350000\n",
       "Houston           1100000\n",
       "Los Angeles       1985000\n",
       "New York        103250000\n",
       "Philadelphia       750000\n",
       "Phoenix         200400000\n",
       "Name: My_Population, dtype: int64"
      ]
     },
     "execution_count": 31,
     "metadata": {},
     "output_type": "execute_result"
    }
   ],
   "source": [
    "total_male_population"
   ]
  },
  {
   "cell_type": "code",
   "execution_count": 40,
   "id": "f1b8057e-cce4-4d76-acdd-14eec34eab88",
   "metadata": {},
   "outputs": [],
   "source": [
    "max_population = total_male_population.max()"
   ]
  },
  {
   "cell_type": "code",
   "execution_count": 41,
   "id": "bae06603-92b7-41fb-8484-1296dca408c1",
   "metadata": {},
   "outputs": [],
   "source": [
    "city_name = total_male_population.idxmax()"
   ]
  },
  {
   "cell_type": "code",
   "execution_count": 42,
   "id": "5cdf953e-e774-4e25-845d-bcc56dafb66e",
   "metadata": {},
   "outputs": [
    {
     "name": "stdout",
     "output_type": "stream",
     "text": [
      "city name : Phoenix city_population =  200400000\n"
     ]
    }
   ],
   "source": [
    "print(\"city name :\" , city_name, 'city_population = ',  max_population)"
   ]
  },
  {
   "cell_type": "code",
   "execution_count": 52,
   "id": "c4631b20-2cc5-4e66-89af-b7ce078e6a75",
   "metadata": {},
   "outputs": [
    {
     "data": {
      "text/plain": [
       "My_City\n",
       "Phoenix        200400000\n",
       "New York       103250000\n",
       "Los Angeles      1985000\n",
       "Name: My_Population, dtype: int64"
      ]
     },
     "execution_count": 52,
     "metadata": {},
     "output_type": "execute_result"
    }
   ],
   "source": [
    "total_male_population.sort_values(ascending = False).head(3)"
   ]
  },
  {
   "cell_type": "code",
   "execution_count": null,
   "id": "b5e59af2-f3a0-4031-a3a5-c28690170d88",
   "metadata": {},
   "outputs": [],
   "source": []
  },
  {
   "cell_type": "code",
   "execution_count": null,
   "id": "5876632f-212f-4218-80dd-ec06c8fe4732",
   "metadata": {},
   "outputs": [],
   "source": []
  },
  {
   "cell_type": "code",
   "execution_count": null,
   "id": "397fef21-6aa8-465b-9c69-cb4e13ef2cb4",
   "metadata": {},
   "outputs": [],
   "source": []
  }
 ],
 "metadata": {
  "kernelspec": {
   "display_name": "Python 3 (ipykernel)",
   "language": "python",
   "name": "python3"
  },
  "language_info": {
   "codemirror_mode": {
    "name": "ipython",
    "version": 3
   },
   "file_extension": ".py",
   "mimetype": "text/x-python",
   "name": "python",
   "nbconvert_exporter": "python",
   "pygments_lexer": "ipython3",
   "version": "3.11.4"
  }
 },
 "nbformat": 4,
 "nbformat_minor": 5
}
